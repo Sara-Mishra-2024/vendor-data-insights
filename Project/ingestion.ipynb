{
 "cells": [
  {
   "cell_type": "code",
   "execution_count": 5,
   "id": "399160b5",
   "metadata": {},
   "outputs": [],
   "source": [
    "import os\n",
    "import time\n",
    "import logging\n",
    "from sqlalchemy import create_engine\n",
    "import pandas as pd  "
   ]
  },
  {
   "cell_type": "code",
   "execution_count": 6,
   "id": "7faa05ac",
   "metadata": {},
   "outputs": [],
   "source": [
    "os.makedirs(\"logs\", exist_ok=True)\n",
    "os.makedirs(\"data\", exist_ok=True)  "
   ]
  },
  {
   "cell_type": "code",
   "execution_count": 7,
   "id": "0278fa10",
   "metadata": {},
   "outputs": [],
   "source": [
    "logging.basicConfig(\n",
    "    filename=\"logs/ingestion_db.log\",\n",
    "    level=logging.DEBUG,\n",
    "    format=\"%(asctime)s - %(levelname)s - %(message)s\",\n",
    "    filemode=\"a\"\n",
    ")\n"
   ]
  },
  {
   "cell_type": "code",
   "execution_count": 8,
   "id": "e43d7516",
   "metadata": {},
   "outputs": [],
   "source": [
    "engine = create_engine('sqlite:///inventory.db')\n"
   ]
  },
  {
   "cell_type": "code",
   "execution_count": 9,
   "id": "ca7bf51a",
   "metadata": {},
   "outputs": [],
   "source": [
    "def ingest_db(df, table_name, engine):\n",
    "    \"\"\"\n",
    "    Ingests the dataframe into the specified database table.\n",
    "    Parameters:\n",
    "        df (DataFrame): The data to ingest\n",
    "        table_name (str): Name of the target table\n",
    "        engine (SQLAlchemy Engine): Database connection\n",
    "    \"\"\"\n",
    "    df.to_sql(table_name, con=engine, if_exists='replace', index=False)\n"
   ]
  },
  {
   "cell_type": "code",
   "execution_count": 10,
   "id": "056aca25",
   "metadata": {},
   "outputs": [],
   "source": [
    "def load_raw_data():\n",
    "    \"\"\"\n",
    "    Loads CSV files from the 'data' folder and ingests them into the database.\n",
    "    Logs progress and errors.\n",
    "    \"\"\"\n",
    "    start = time.time()\n",
    "\n",
    "    for file in os.listdir('data'):\n",
    "        if file.endswith('.csv'):\n",
    "            try:\n",
    "                file_path = os.path.join('data', file)\n",
    "                df = pd.read_csv(file_path)\n",
    "\n",
    "                logging.info(f'Ingesting {file} into database')\n",
    "                ingest_db(df, file[:-4], engine)\n",
    "\n",
    "            except Exception as e:\n",
    "                logging.error(f'Error processing {file}: {e}')\n",
    "\n",
    "    end = time.time()\n",
    "    total_time = (end - start) / 60\n",
    "\n",
    "    logging.info('--------------Ingestion Complete------------')\n",
    "    logging.info(f'Total Time Taken: {total_time:.2f} minutes')\n"
   ]
  },
  {
   "cell_type": "code",
   "execution_count": 11,
   "id": "b2cce1e2",
   "metadata": {},
   "outputs": [],
   "source": [
    "if __name__ == '__main__':\n",
    "    load_raw_data()\n"
   ]
  },
  {
   "cell_type": "code",
   "execution_count": null,
   "id": "6b892220",
   "metadata": {},
   "outputs": [],
   "source": []
  }
 ],
 "metadata": {
  "kernelspec": {
   "display_name": "Python 3 (ipykernel)",
   "language": "python",
   "name": "python3"
  },
  "language_info": {
   "codemirror_mode": {
    "name": "ipython",
    "version": 3
   },
   "file_extension": ".py",
   "mimetype": "text/x-python",
   "name": "python",
   "nbconvert_exporter": "python",
   "pygments_lexer": "ipython3",
   "version": "3.10.9"
  }
 },
 "nbformat": 4,
 "nbformat_minor": 5
}
