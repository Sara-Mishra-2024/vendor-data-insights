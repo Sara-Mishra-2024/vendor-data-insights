{
 "cells": [
  {
   "cell_type": "code",
   "execution_count": 16,
   "id": "677b992b",
   "metadata": {},
   "outputs": [],
   "source": [
    "import sqlite3\n",
    "import pandas as pd\n",
    "import logging\n",
    "\n",
    "# Setup logging\n",
    "logging.basicConfig(\n",
    "    filename=\"vendor_sales_summary.log\",\n",
    "    level=logging.DEBUG,\n",
    "    format=\"%(asctime)s - %(levelname)s - %(message)s\",\n",
    "    filemode=\"a\"\n",
    ")"
   ]
  },
  {
   "cell_type": "code",
   "execution_count": 17,
   "id": "e9660e1c",
   "metadata": {},
   "outputs": [],
   "source": [
    "conn = sqlite3.connect(\"inventory.db\")"
   ]
  },
  {
   "cell_type": "code",
   "execution_count": 18,
   "id": "f7313011",
   "metadata": {},
   "outputs": [],
   "source": [
    "def ingest_db(df, table_name, engine):\n",
    "    \"\"\"Ingests a DataFrame into the SQLite database.\"\"\"\n",
    "    df.to_sql(table_name, con=engine, if_exists='replace', index=False)"
   ]
  },
  {
   "cell_type": "code",
   "execution_count": 19,
   "id": "6d56f5ff",
   "metadata": {},
   "outputs": [
    {
     "data": {
      "text/plain": [
       "<sqlite3.Cursor at 0x21711a7aac0>"
      ]
     },
     "execution_count": 19,
     "metadata": {},
     "output_type": "execute_result"
    }
   ],
   "source": [
    "conn.execute(\"\"\"\n",
    "CREATE TABLE IF NOT EXISTS purchases (\n",
    "    VendorNumber TEXT,\n",
    "    VendorName TEXT,\n",
    "    Brand TEXT,\n",
    "    Description TEXT,\n",
    "    PurchasePrice REAL,\n",
    "    Quantity INTEGER,\n",
    "    Dollars REAL\n",
    ");\n",
    "\"\"\")\n",
    "\n",
    "conn.execute(\"\"\"\n",
    "CREATE TABLE IF NOT EXISTS purchase_prices (\n",
    "    Brand TEXT,\n",
    "    Price REAL,\n",
    "    Volume TEXT\n",
    ");\n",
    "\"\"\")\n",
    "\n",
    "conn.execute(\"\"\"\n",
    "CREATE TABLE IF NOT EXISTS vendor_invoice (\n",
    "    VendorNumber TEXT,\n",
    "    Freight REAL\n",
    ");\n",
    "\"\"\")\n",
    "\n",
    "conn.execute(\"\"\"\n",
    "CREATE TABLE IF NOT EXISTS sales (\n",
    "    VendorNo TEXT,\n",
    "    Brand TEXT,\n",
    "    SalesQuantity INTEGER,\n",
    "    SalesDollars REAL,\n",
    "    SalesPrice REAL,\n",
    "    ExciseTax REAL\n",
    ");\n",
    "\"\"\")\n"
   ]
  },
  {
   "cell_type": "code",
   "execution_count": 20,
   "id": "097558a1",
   "metadata": {},
   "outputs": [],
   "source": [
    "def create_vendor_summary(conn):\n",
    "    \"\"\"\n",
    "    Merges multiple tables to generate a vendor performance summary.\n",
    "    \"\"\"\n",
    "    query = \"\"\"\n",
    "    WITH FreightSummary AS (\n",
    "        SELECT VendorNumber, SUM(Freight) AS FreightCost\n",
    "        FROM vendor_invoice\n",
    "        GROUP BY VendorNumber\n",
    "    ),\n",
    "    \n",
    "    PurchaseSummary AS (\n",
    "        SELECT \n",
    "            p.VendorNumber,\n",
    "            p.VendorName,\n",
    "            p.Brand,\n",
    "            p.Description,\n",
    "            p.PurchasePrice,\n",
    "            pp.Price AS ActualPrice,\n",
    "            pp.Volume,\n",
    "            SUM(p.Quantity) AS TotalPurchaseQuantity,\n",
    "            SUM(p.Dollars) AS TotalPurchaseDollars\n",
    "        FROM purchases p\n",
    "        JOIN purchase_prices pp ON p.Brand = pp.Brand\n",
    "        WHERE p.PurchasePrice > 0\n",
    "        GROUP BY p.VendorNumber, p.VendorName, p.Brand, p.Description, p.PurchasePrice, pp.Price, pp.Volume\n",
    "    ),\n",
    "    \n",
    "    SalesSummary AS (\n",
    "        SELECT \n",
    "            VendorNo,\n",
    "            Brand,\n",
    "            SUM(SalesQuantity) AS TotalSalesQuantity,\n",
    "            SUM(SalesDollars) AS TotalSalesDollars,\n",
    "            SUM(SalesPrice) AS TotalSalesPrice,\n",
    "            SUM(ExciseTax) AS TotalExciseTax\n",
    "        FROM sales\n",
    "        GROUP BY VendorNo, Brand\n",
    "    )\n",
    "    \n",
    "    SELECT \n",
    "        ps.VendorNumber,\n",
    "        ps.VendorName,\n",
    "        ps.Brand,\n",
    "        ps.Description,\n",
    "        ps.PurchasePrice,\n",
    "        ps.ActualPrice,\n",
    "        ps.Volume,\n",
    "        ps.TotalPurchaseQuantity,\n",
    "        ps.TotalPurchaseDollars,\n",
    "        ss.TotalSalesQuantity,\n",
    "        ss.TotalSalesDollars,\n",
    "        ss.TotalSalesPrice,\n",
    "        ss.TotalExciseTax,\n",
    "        fs.FreightCost\n",
    "    FROM PurchaseSummary ps\n",
    "    LEFT JOIN SalesSummary ss \n",
    "        ON ps.VendorNumber = ss.VendorNo \n",
    "        AND ps.Brand = ss.Brand\n",
    "    LEFT JOIN FreightSummary fs \n",
    "        ON ps.VendorNumber = fs.VendorNumber\n",
    "    ORDER BY ps.TotalPurchaseDollars DESC\n",
    "    \"\"\"\n",
    "    \n",
    "    return pd.read_sql_query(query, conn)\n"
   ]
  },
  {
   "cell_type": "code",
   "execution_count": 21,
   "id": "05e39aa3",
   "metadata": {},
   "outputs": [],
   "source": [
    "logging.info(\"Creating Vendor Summary Table...\")\n",
    "try:\n",
    "    summary_df = create_vendor_summary(conn)\n",
    "    logging.info(summary_df.head())\n",
    "except Exception as e:\n",
    "    logging.error(f\"Error generating summary: {e}\")\n"
   ]
  }
 ],
 "metadata": {
  "kernelspec": {
   "display_name": "Python 3 (ipykernel)",
   "language": "python",
   "name": "python3"
  },
  "language_info": {
   "codemirror_mode": {
    "name": "ipython",
    "version": 3
   },
   "file_extension": ".py",
   "mimetype": "text/x-python",
   "name": "python",
   "nbconvert_exporter": "python",
   "pygments_lexer": "ipython3",
   "version": "3.10.9"
  }
 },
 "nbformat": 4,
 "nbformat_minor": 5
}
